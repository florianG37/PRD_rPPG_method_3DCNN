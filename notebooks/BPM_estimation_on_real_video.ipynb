{
 "cells": [
  {
   "cell_type": "markdown",
   "metadata": {},
   "source": [
    "# BPM ESTIMATION ON REAL VIDEO "
   ]
  },
  {
   "cell_type": "markdown",
   "metadata": {},
   "source": [
    "Explanation of the script for testing on real data in the same condition as pyVHR"
   ]
  },
  {
   "cell_type": "markdown",
   "metadata": {},
   "source": [
    "## Import librairies\n",
    "\n",
    "Previously , you have to install theses python librairies :\n",
    "* tensorflow (2.2.0)\n",
    "* matplotlib\n",
    "* scipy\n",
    "* numpy\n",
    "* opencv-python\n",
    "* Copy\n",
    "* pyVHR (0.0.1)"
   ]
  },
  {
   "cell_type": "code",
   "execution_count": null,
   "metadata": {},
   "outputs": [],
   "source": [
    "##\n",
    "## Importing libraries\n",
    "##\n",
    "\n",
    "#Tensorflow/KERAS\n",
    "import tensorflow as tf\n",
    "from tensorflow.python.keras.models import Sequential\n",
    "from tensorflow.python.keras.models import model_from_json\n",
    "from tensorflow.python.keras.utils import np_utils\n",
    "\n",
    "# Numpy / Matplotlib / OpenCV / Scipy / Copy / ConfigParser\n",
    "import numpy as np\n",
    "import scipy.io\n",
    "import scipy.stats as sp\n",
    "import matplotlib.pyplot as plt\n",
    "import cv2\n",
    "from copy import copy\n",
    "import os\n",
    "import configparser\n",
    "\n",
    "#pyVHR\n",
    "from pyVHR.signals.video import Video\n",
    "from pyVHR.datasets.dataset import Dataset\n",
    "from pyVHR.datasets.dataset import datasetFactory"
   ]
  },
  {
   "cell_type": "markdown",
   "metadata": {},
   "source": [
    "## Load configuration (BPMEstimationOnRealVideo.cfg) "
   ]
  },
  {
   "cell_type": "code",
   "execution_count": null,
   "metadata": {},
   "outputs": [],
   "source": [
    "##\n",
    "## Loading configuration\n",
    "##\n",
    "\n",
    "config = configparser.ConfigParser()\n",
    "\n",
    "config.read('./BPMEstimationOnRealVideo.cfg')\n",
    "\n",
    "if(int(config['ExeConfig']['useCPU']) == 1):\n",
    "    #RUN ON CPU\n",
    "    os.environ['CUDA_VISIBLE_DEVICES'] = '-1'"
   ]
  },
  {
   "cell_type": "markdown",
   "metadata": {},
   "source": [
    "## Load the video & pyVHR processing\n",
    "\n",
    "In the pyVHR framework, we work on a processed video. The processing consists of detecting and extracting an area of interest, in order to apply our rPPGs methods on relevant data.\n",
    "\n",
    "* videoFilename : path of the video\n",
    "* return : video processed"
   ]
  },
  {
   "cell_type": "code",
   "execution_count": null,
   "metadata": {},
   "outputs": [],
   "source": [
    "##\n",
    "## Loading the video & pyVHR processing\n",
    "##\n",
    "\n",
    "def extraction_roi(video_filename):\n",
    "    video = Video(video_filename)\n",
    "    video.getCroppedFaces(detector='dlib', extractor='skvideo')\n",
    "    video.setMask(typeROI='skin_adapt',skinThresh_adapt=0.30)\n",
    "    return video"
   ]
  },
  {
   "cell_type": "markdown",
   "metadata": {},
   "source": [
    "## Load the model\n",
    "\n",
    "Load model & classes\n",
    "\n",
    "* model_path : path of the model\n",
    "* return :\n",
    "    * model : the model trained to make predictions\n",
    "    * freq_BPM : array containing the set of classes (representing each bpm) known by the model\n"
   ]
  },
  {
   "cell_type": "code",
   "execution_count": null,
   "metadata": {},
   "outputs": [],
   "source": [
    "##\n",
    "## Loading the model\n",
    "##\n",
    "\n",
    "def loadmodel(model_path):\n",
    "    model = model_from_json(open(f'{model_path}/model_conv3D.json').read())\n",
    "    model.load_weights(f'{model_path}/weights_conv3D.h5')\n",
    "    model.compile(loss='categorical_crossentropy', optimizer='adam', metrics=['accuracy'])\n",
    "\n",
    "    # define the frequencies // output dimension (number of classes used during training)\n",
    "    freq_bpm = np.linspace(55, 240, num=model.output_shape[1]-1)\n",
    "    freq_bpm = np.append(freq_bpm, -1)     # noise class\n",
    "    return model, freq_bpm"
   ]
  },
  {
   "cell_type": "markdown",
   "metadata": {},
   "source": [
    "## Convert videoframes to a single channel array\n",
    "\n",
    "Select one channel for making prediction\n",
    "\n",
    "* video : whole video\n",
    "* model : the model trained to make predictions\n",
    "* startFrame : first frame to be read\n",
    "* return : frames normalized\n"
   ]
  },
  {
   "cell_type": "code",
   "execution_count": null,
   "metadata": {},
   "outputs": [],
   "source": [
    "##\n",
    "## Converting videoframes to a single channel array\n",
    "##\n",
    "\n",
    "def convert_video_to_table(video,model, start_frame):\n",
    "    imgs = np.zeros(shape=(model.input_shape[1], video.cropSize[0], video.cropSize[1], 1))\n",
    "\n",
    "    # channel extraction\n",
    "    if (video.cropSize[2]<3):\n",
    "        IMAGE_CHANNELS = 1\n",
    "    else:\n",
    "        IMAGE_CHANNELS = video.cropSize[2]\n",
    "\n",
    "    # load images (imgs contains the whole video)\n",
    "    for j in range(0, model.input_shape[1]):\n",
    "\n",
    "        if (IMAGE_CHANNELS==3):\n",
    "            temp = video.faces[j + start_frame]/255\n",
    "            temp = temp[:,:,1]      # only the G component is currently used\n",
    "        else:\n",
    "            temp = video.faces[j + start_frame] / 255\n",
    "\n",
    "        imgs[j] = np.expand_dims(temp, 2)\n",
    "    return imgs"
   ]
  },
  {
   "cell_type": "markdown",
   "metadata": {},
   "source": [
    "## Get a prediction\n",
    "\n",
    "Using the model to make a prediction on a map tile\n",
    "\n",
    "* model : the model trained to make predictions\n",
    "* freq_bpm : array containing the set of classes (representing each bpm) known by the model\n",
    "* xtest : model input\n",
    "* return : A prediction"
   ]
  },
  {
   "cell_type": "code",
   "execution_count": 1,
   "metadata": {},
   "outputs": [],
   "source": [
    "##\n",
    "## Using the model to make a prediction on a map tile\n",
    "##\n",
    "\n",
    "def get_prediction(model,freq_bpm, xtest):\n",
    "    idx = 0\n",
    "    # model.predict\n",
    "    input_tensor = tf.convert_to_tensor(np.expand_dims(xtest, 0))\n",
    "    h = model(input_tensor)\n",
    "    h = h.numpy() \n",
    "    #Binary prediction\n",
    "    res = np.zeros(shape=(76))\n",
    "    idx = get_idx(h[0])\n",
    "    res[idx] = 1\n",
    "    return res\n"
   ]
  },
  {
   "cell_type": "markdown",
   "metadata": {},
   "source": [
    "## Format Video\n",
    "\n",
    "Realization of a catagraphy of predictions on the video. This function formats the video in several sets of tests, in order to make multiple predictions. The sum of these predictions is returned.\n",
    "\n",
    "* video : whole video\n",
    "* model : the model trained to make predictions\n",
    "* imgs : Video sequence submitted to the prediction (including the subject's face)\n",
    "* freq_BPM : array containing the set of classes (representing each bpm) known by the model\n",
    "* stepX : horizontal step for mapping\n",
    "* stepY : vertical step for mapping"
   ]
  },
  {
   "cell_type": "code",
   "execution_count": null,
   "metadata": {},
   "outputs": [],
   "source": [
    "##\n",
    "## Formating Video\n",
    "##\n",
    "\n",
    "def formating_data_test(video, model, imgs , freq_bpm, step_x, step_y):\n",
    "    \n",
    "    # output - sum of predictions\n",
    "    predictions = np.zeros(shape=(len(freq_bpm)))\n",
    "    \n",
    "    # Displacement on the x axis\n",
    "    iteration_x = 0\n",
    "    # Our position at n + 1 on the X axis\n",
    "    axis_x = model.input_shape[3]\n",
    "    \n",
    "    # width of video\n",
    "    width = video.cropSize[1]\n",
    "    # height of video\n",
    "    height = video.cropSize[0]\n",
    "    \n",
    "    # Browse the X axis\n",
    "    while axis_x < width:\n",
    "        # Displacement on the y axis\n",
    "        axis_y = model.input_shape[2]\n",
    "        # Our position at n + 1 on the Y axis\n",
    "        iteration_y = 0\n",
    "        # Browse the Y axis\n",
    "        while axis_y < height:\n",
    "            \n",
    "            # Start position\n",
    "            x1 = iteration_x * step_x\n",
    "            y1 = iteration_y * step_y\n",
    "            \n",
    "            # End position\n",
    "            x2 = x1 + model.input_shape[3]\n",
    "            y2 = y1 + model.input_shape[2]\n",
    "            \n",
    "            # Cutting \n",
    "            face_copy = copy(imgs[0:model.input_shape[1],x1:x2,y1:y2,:])\n",
    "            \n",
    "            # randomize pixel locations\n",
    "            for j in range(model.input_shape[1]):\n",
    "                temp = copy(face_copy[j,:,:,:])\n",
    "                np.random.shuffle(temp)\n",
    "                face_copy[j] = temp\n",
    "            \n",
    "            # Checks the validity of cutting\n",
    "            if(np.shape(face_copy)[1] == model.input_shape[3] and np.shape(face_copy)[2] == model.input_shape[2]):\n",
    "                # prediction on the cut part\n",
    "                xtest = face_copy - np.mean(face_copy)\n",
    "                predictions = predictions + get_prediction(model,freq_bpm,xtest)\n",
    "            \n",
    "            # increments\n",
    "            axis_y = y2 + model.input_shape[2]\n",
    "            iteration_y = iteration_y +1\n",
    "        # increments    \n",
    "        axis_x = x2 + model.input_shape[3]\n",
    "        iteration_x = iteration_x + 1\n",
    "        \n",
    "    return predictions    "
   ]
  },
  {
   "cell_type": "markdown",
   "metadata": {},
   "source": [
    "## Find the label associated with the prediction\n",
    "\n",
    "Applying the formula to transform the prediction result into a value representing the estimated heart rate (BPM)\n",
    "\n",
    "* prediction : array including the addition of all predictions\n",
    "* freq_bpm : array containing the set of classes (representing each bpm) known by the model\n",
    "* return : bpm value calculated\n",
    "\n",
    "![bpm_formula](./img/bpm_formula.JPG)\n",
    "\n"
   ]
  },
  {
   "cell_type": "code",
   "execution_count": null,
   "metadata": {},
   "outputs": [],
   "source": [
    "##\n",
    "## Finding the label associated with the prediction\n",
    "##\n",
    "\n",
    "def get_class(prediction, freq_bpm): \n",
    "    nb_bins = 0\n",
    "    score = 0\n",
    "    for i in range(len(prediction)-1):\n",
    "        nb_bins += prediction[i]\n",
    "        score += freq_bpm[i] * prediction[i]\n",
    "        \n",
    "    bpm = score / nb_bins\n",
    "    \n",
    "    return bpm"
   ]
  },
  {
   "cell_type": "markdown",
   "metadata": {},
   "source": [
    "## Get the index of the maximum value of a prediction\n",
    "\n",
    "Use the model to make prediction\n",
    "\n",
    "* h : Array (here a prediction)\n",
    "* return : index of the maximum value of an array"
   ]
  },
  {
   "cell_type": "code",
   "execution_count": null,
   "metadata": {},
   "outputs": [],
   "source": [
    "##\n",
    "## Get the index of the maximum value of a prediction\n",
    "##\n",
    "def get_idx(h):\n",
    "    idx =0\n",
    "    maxi = -1\n",
    "    #find label associated\n",
    "    for i in range(0, len(h)):\n",
    "        if maxi < h[i]:\n",
    "            idx = i\n",
    "            maxi = h[i]\n",
    "    return idx "
   ]
  },
  {
   "cell_type": "markdown",
   "metadata": {},
   "source": [
    "## Make a prediction\n",
    "Function to make prediction on veritable data \n",
    "* video : whole video\n",
    "* model : the model trained to make predictions\n",
    "* start_frame : index of first frame to process\n",
    "* x_step : horizontal step for mapping\n",
    "* y_step : vertical step for mapping\n",
    "* return : Estimated BPM"
   ]
  },
  {
   "cell_type": "code",
   "execution_count": null,
   "metadata": {},
   "outputs": [],
   "source": [
    "##\n",
    "## Make a prediction\n",
    "##\n",
    "\n",
    "def make_prediction(video, model, freq_bpm, start_frame, x_step, y_step):\n",
    "    \n",
    "    #extract Green channel or Black & whrite channel\n",
    "    frames_one_channel = convert_video_to_table(video,model, start_frame)\n",
    "    \n",
    "    prediction = formating_data_test(video, model, frames_one_channel, freq_bpm, x_step, y_step)\n",
    "    \n",
    "    # get bpm\n",
    "    bpm = get_class(prediction, freq_bpm)\n",
    "    return bpm\n"
   ]
  },
  {
   "cell_type": "markdown",
   "metadata": {},
   "source": [
    "## Get Ground truth\n",
    "\n",
    "* name_dataset: name of dataset used\n",
    "* video_gt_filename : path of the GT file\n",
    "* win_size_gt : window size of the GT\n",
    "* freq_bpm : array containing the set of classes (representing each bpm) known by the model\n",
    "* return : list of true BPM"
   ]
  },
  {
   "cell_type": "code",
   "execution_count": null,
   "metadata": {},
   "outputs": [],
   "source": [
    "##\n",
    "## Getting Ground truth\n",
    "##\n",
    "def get_gt(name_dataset, video_gt_filename, win_size_gt, freq_bpm):\n",
    "    dataset = datasetFactory(name_dataset)\n",
    "    sig_gt = dataset.readSigfile(video_gt_filename)\n",
    "    bpm_gt, times_gt = sig_gt.getBPM(win_size_gt)\n",
    "    return bpm_gt"
   ]
  },
  {
   "cell_type": "markdown",
   "metadata": {},
   "source": [
    "## MAIN"
   ]
  },
  {
   "cell_type": "code",
   "execution_count": 5,
   "metadata": {},
   "outputs": [
    {
     "name": "stderr",
     "output_type": "stream",
     "text": [
      "c:\\users\\florian\\appdata\\local\\programs\\python\\python36\\lib\\site-packages\\pyVHR\\signals\\video.py:71: UserWarning:\n",
      "\n",
      "\n",
      "WARNING!! Requested detector method is different from the saved one\n",
      "\n",
      "\n"
     ]
    },
    {
     "data": {
      "image/png": "[encoded data removed]",
      "text/plain": [
       "<Figure size 432x288 with 1 Axes>"
      ]
     },
     "metadata": {
      "needs_background": "light"
     },
     "output_type": "display_data"
    }
   ],
   "source": [
    "##\n",
    "## MAIN\n",
    "##\n",
    "\n",
    "videoFilename = str(config['ExeConfig']['videoFilename'])  #video to be processed path\n",
    "modelFilename = str(config['ExeConfig']['modelFilename'])   #model path \n",
    "\n",
    "# ROI EXTRACTION\n",
    "video = extraction_roi(videoFilename)\n",
    "# Load the model\n",
    "model, freq_bpm = loadmodel(modelFilename)\n",
    "\n",
    "frameRate = int(config['DataConfig']['frameRate'])\n",
    "nameDataset = str(config['ExeConfig']['nameDataset'])\n",
    "videoGTFilename = str(config['ExeConfig']['videoGTFilename'])\n",
    "winSizeGT = int(config['DataConfig']['winSizeGT'])\n",
    "#Data preparation \n",
    "x_step = int(config['DataConfig']['Xstep'])\n",
    "y_step = int(config['DataConfig']['Ystep'])\n",
    "\n",
    "NB_LAPSE = int(video.numFrames / frameRate)\n",
    "if(int(config['ExeConfig']['useNbLapse']) == 1):\n",
    "    NB_LAPSE = int(config['DataConfig']['NbLapse'])\n",
    "    \n",
    "GT_BPM  = get_gt(nameDataset, videoGTFilename, winSizeGT, freq_bpm)\n",
    "\n",
    "# tables for display\n",
    "Tab_BPM_estimated = []\n",
    "Tab_BPM_True = []\n",
    "Tab_Lapse = []\n",
    "\n",
    "# Second-by-second estimation\n",
    "for lapse in range(0 ,NB_LAPSE):\n",
    "    \n",
    "    startFrame = lapse * frameRate\n",
    "\n",
    "    end = startFrame + model.input_shape[1]\n",
    "    if(end > video.numFrames):\n",
    "        break\n",
    "\n",
    "    BPM_estimated = make_prediction(video, model, freq_bpm, startFrame, x_step, y_step)\n",
    "    Tab_BPM_estimated.append(BPM_estimated)\n",
    "    BPM_True = int(GT_BPM[lapse+int(winSizeGT/2)])\n",
    "    Tab_BPM_True.append(BPM_True)\n",
    "    Tab_Lapse.append(lapse)\n",
    "\n",
    "# Graphic display\n",
    "fig, ax = plt.subplots(nrows=1, ncols=1)\n",
    "ax.plot(np.asarray(Tab_Lapse), np.asarray(Tab_BPM_estimated), marker='+', color='blue', label='BPM ESTIMATES')\n",
    "ax.plot(np.asarray(Tab_Lapse), np.asarray(Tab_BPM_True), marker='+', color='red', label='BPM GT')\n",
    "plt.show()"
   ]
  }
 ],
 "metadata": {
  "kernelspec": {
   "display_name": "Python 3",
   "language": "python",
   "name": "python3"
  },
  "language_info": {
   "codemirror_mode": {
    "name": "ipython",
    "version": 3
   },
   "file_extension": ".py",
   "mimetype": "text/x-python",
   "name": "python",
   "nbconvert_exporter": "python",
   "pygments_lexer": "ipython3",
   "version": "3.6.8"
  }
 },
 "nbformat": 4,
 "nbformat_minor": 4
}
